{
  "nbformat": 4,
  "nbformat_minor": 0,
  "metadata": {
    "colab": {
      "name": "gg_73_YOLO_YouTube",
      "version": "0.3.2",
      "provenance": [],
      "collapsed_sections": []
    },
    "kernelspec": {
      "name": "python3",
      "display_name": "Python 3"
    },
    "accelerator": "GPU"
  },
  "cells": [
    {
      "cell_type": "markdown",
      "metadata": {
        "id": "89cyX7xUGq97",
        "colab_type": "text"
      },
      "source": [
        "\n",
        "# 코랩에서 임의의 유튜브 동영상 객체 검출\n",
        "- YOLO 사용\n",
        "- GPU 설정해야 함\n",
        "\n",
        "\n",
        " \n"
      ]
    },
    {
      "cell_type": "code",
      "metadata": {
        "id": "UMDhtuOCsam0",
        "colab_type": "code",
        "outputId": "7b11087d-2e57-4865-9304-ea2f11418031",
        "colab": {
          "base_uri": "https://localhost:8080/",
          "height": 759
        }
      },
      "source": [
        "!pip install pydrive\n",
        "!git clone https://github.com/thtrieu/darkflow.git\n",
        "!pip install Cython \n",
        "!pip install pytube\n",
        "!pip install PyDrive\n",
        "\n",
        "import os\n",
        "os.chdir('/content/darkflow')\n",
        "!pwd\n",
        "\n",
        "!pip install -e ."
      ],
      "execution_count": 0,
      "outputs": [
        {
          "output_type": "stream",
          "text": [
            "Collecting pydrive\n",
            "\u001b[?25l  Downloading https://files.pythonhosted.org/packages/52/e0/0e64788e5dd58ce2d6934549676243dc69d982f198524be9b99e9c2a4fd5/PyDrive-1.3.1.tar.gz (987kB)\n",
            "\u001b[K     |████████████████████████████████| 993kB 3.4MB/s \n",
            "\u001b[?25hRequirement already satisfied: google-api-python-client>=1.2 in /usr/local/lib/python3.6/dist-packages (from pydrive) (1.6.7)\n",
            "Requirement already satisfied: oauth2client>=4.0.0 in /usr/local/lib/python3.6/dist-packages (from pydrive) (4.1.3)\n",
            "Requirement already satisfied: PyYAML>=3.0 in /usr/local/lib/python3.6/dist-packages (from pydrive) (3.13)\n",
            "Requirement already satisfied: uritemplate<4dev,>=3.0.0 in /usr/local/lib/python3.6/dist-packages (from google-api-python-client>=1.2->pydrive) (3.0.0)\n",
            "Requirement already satisfied: httplib2<1dev,>=0.9.2 in /usr/local/lib/python3.6/dist-packages (from google-api-python-client>=1.2->pydrive) (0.11.3)\n",
            "Requirement already satisfied: six<2dev,>=1.6.1 in /usr/local/lib/python3.6/dist-packages (from google-api-python-client>=1.2->pydrive) (1.12.0)\n",
            "Requirement already satisfied: rsa>=3.1.4 in /usr/local/lib/python3.6/dist-packages (from oauth2client>=4.0.0->pydrive) (4.0)\n",
            "Requirement already satisfied: pyasn1-modules>=0.0.5 in /usr/local/lib/python3.6/dist-packages (from oauth2client>=4.0.0->pydrive) (0.2.5)\n",
            "Requirement already satisfied: pyasn1>=0.1.7 in /usr/local/lib/python3.6/dist-packages (from oauth2client>=4.0.0->pydrive) (0.4.5)\n",
            "Building wheels for collected packages: pydrive\n",
            "  Building wheel for pydrive (setup.py) ... \u001b[?25l\u001b[?25hdone\n",
            "  Stored in directory: /root/.cache/pip/wheels/fa/d2/9a/d3b6b506c2da98289e5d417215ce34b696db856643bad779f4\n",
            "Successfully built pydrive\n",
            "Installing collected packages: pydrive\n",
            "Successfully installed pydrive-1.3.1\n",
            "Cloning into 'darkflow'...\n",
            "remote: Enumerating objects: 2706, done.\u001b[K\n",
            "remote: Total 2706 (delta 0), reused 0 (delta 0), pack-reused 2706\n",
            "Receiving objects: 100% (2706/2706), 32.98 MiB | 40.01 MiB/s, done.\n",
            "Resolving deltas: 100% (1760/1760), done.\n",
            "Requirement already satisfied: Cython in /usr/local/lib/python3.6/dist-packages (0.29.9)\n",
            "Collecting pytube\n",
            "  Downloading https://files.pythonhosted.org/packages/d5/67/087f4771284110bf4c742d101fa8f4019529d55a2850cd383349c41f9930/pytube-9.5.0-py3-none-any.whl\n",
            "Installing collected packages: pytube\n",
            "Successfully installed pytube-9.5.0\n",
            "Requirement already satisfied: PyDrive in /usr/local/lib/python3.6/dist-packages (1.3.1)\n",
            "Requirement already satisfied: google-api-python-client>=1.2 in /usr/local/lib/python3.6/dist-packages (from PyDrive) (1.6.7)\n",
            "Requirement already satisfied: PyYAML>=3.0 in /usr/local/lib/python3.6/dist-packages (from PyDrive) (3.13)\n",
            "Requirement already satisfied: oauth2client>=4.0.0 in /usr/local/lib/python3.6/dist-packages (from PyDrive) (4.1.3)\n",
            "Requirement already satisfied: uritemplate<4dev,>=3.0.0 in /usr/local/lib/python3.6/dist-packages (from google-api-python-client>=1.2->PyDrive) (3.0.0)\n",
            "Requirement already satisfied: httplib2<1dev,>=0.9.2 in /usr/local/lib/python3.6/dist-packages (from google-api-python-client>=1.2->PyDrive) (0.11.3)\n",
            "Requirement already satisfied: six<2dev,>=1.6.1 in /usr/local/lib/python3.6/dist-packages (from google-api-python-client>=1.2->PyDrive) (1.12.0)\n",
            "Requirement already satisfied: pyasn1>=0.1.7 in /usr/local/lib/python3.6/dist-packages (from oauth2client>=4.0.0->PyDrive) (0.4.5)\n",
            "Requirement already satisfied: pyasn1-modules>=0.0.5 in /usr/local/lib/python3.6/dist-packages (from oauth2client>=4.0.0->PyDrive) (0.2.5)\n",
            "Requirement already satisfied: rsa>=3.1.4 in /usr/local/lib/python3.6/dist-packages (from oauth2client>=4.0.0->PyDrive) (4.0)\n",
            "/content/darkflow\n",
            "Obtaining file:///content/darkflow\n",
            "Installing collected packages: darkflow\n",
            "  Running setup.py develop for darkflow\n",
            "Successfully installed darkflow\n"
          ],
          "name": "stdout"
        }
      ]
    },
    {
      "cell_type": "code",
      "metadata": {
        "id": "y6hoBreCTKy3",
        "colab_type": "code",
        "outputId": "63159671-16e4-43d1-bd88-c79ce235b00c",
        "colab": {
          "base_uri": "https://localhost:8080/",
          "height": 34
        }
      },
      "source": [
        "!pwd"
      ],
      "execution_count": 0,
      "outputs": [
        {
          "output_type": "stream",
          "text": [
            "/content/darkflow\n"
          ],
          "name": "stdout"
        }
      ]
    },
    {
      "cell_type": "markdown",
      "metadata": {
        "id": "lakqZQs306zC",
        "colab_type": "text"
      },
      "source": [
        "### 아래 링크에서 가중치를 다운로드 하여 구글 드라이브에 저장한다.\n",
        "\n",
        "- YOLOv2 608x608을 사용한다. \n",
        "- https://pjreddie.com/darknet/yolo/\n",
        "- 마우스 우측 클릭으로 파일 id를 확인한다."
      ]
    },
    {
      "cell_type": "code",
      "metadata": {
        "id": "IinGnI8XsOHz",
        "colab_type": "code",
        "colab": {}
      },
      "source": [
        "import pydrive\n",
        "import time\n",
        "from tqdm import tqdm\n",
        "from pydrive.auth import GoogleAuth\n",
        "from pydrive.drive import GoogleDrive\n",
        "from google.colab import auth\n",
        "from google.colab import files\n",
        "from oauth2client.client import GoogleCredentials\n",
        "\n",
        "auth.authenticate_user()\n",
        "gauth = GoogleAuth()\n",
        "gauth.credentials = GoogleCredentials.get_application_default()\n",
        "drive = GoogleDrive(gauth)\n",
        "\n",
        "\n",
        "# load training weights\n",
        "\n",
        "newpath = '/content/darkflow/bin'\n",
        "if not os.path.exists(newpath):\n",
        "  os.makedirs(newpath)\n",
        "\n",
        "download = drive.CreateFile({'id': '1J-GZ6mvhu12j19zZtq9fTbnyJeCgxE0g'}) # insert the fild ID here\n",
        "download.GetContentFile('/content/darkflow/bin/yolov2.weights')\n",
        "\n"
      ],
      "execution_count": 0,
      "outputs": []
    },
    {
      "cell_type": "code",
      "metadata": {
        "id": "9O5BfDZzspgP",
        "colab_type": "code",
        "colab": {}
      },
      "source": [
        "from darkflow.net.build import TFNet\n",
        "import cv2\n",
        "import matplotlib.pyplot as plt"
      ],
      "execution_count": 0,
      "outputs": []
    },
    {
      "cell_type": "code",
      "metadata": {
        "id": "XNiPoGeM1Vi7",
        "colab_type": "code",
        "colab": {}
      },
      "source": [
        "options = {\n",
        "    'model': 'cfg/yolo.cfg',\n",
        "    'load': 'bin/yolov2.weights',\n",
        "    'threshold': 0.3,\n",
        "    'gpu' : 1.0\n",
        "          }"
      ],
      "execution_count": 0,
      "outputs": []
    },
    {
      "cell_type": "code",
      "metadata": {
        "id": "2lCTKqVo1Z3c",
        "colab_type": "code",
        "outputId": "05c36db0-05e2-48de-bf7c-b1a20b824e12",
        "colab": {
          "base_uri": "https://localhost:8080/",
          "height": 826
        }
      },
      "source": [
        "tfnet = TFNet(options)"
      ],
      "execution_count": 0,
      "outputs": [
        {
          "output_type": "stream",
          "text": [
            "/content/darkflow/darkflow/dark/darknet.py:54: UserWarning: ./cfg/yolov2.cfg not found, use cfg/yolo.cfg instead\n",
            "  cfg_path, FLAGS.model))\n"
          ],
          "name": "stderr"
        },
        {
          "output_type": "stream",
          "text": [
            "Parsing cfg/yolo.cfg\n",
            "Loading bin/yolov2.weights ...\n",
            "Successfully identified 203934260 bytes\n",
            "Finished in 0.018570899963378906s\n",
            "Model has a coco model name, loading coco labels.\n",
            "\n",
            "Building net ...\n",
            "Source | Train? | Layer description                | Output size\n",
            "-------+--------+----------------------------------+---------------\n",
            "       |        | input                            | (?, 608, 608, 3)\n",
            " Load  |  Yep!  | conv 3x3p1_1  +bnorm  leaky      | (?, 608, 608, 32)\n",
            " Load  |  Yep!  | maxp 2x2p0_2                     | (?, 304, 304, 32)\n",
            " Load  |  Yep!  | conv 3x3p1_1  +bnorm  leaky      | (?, 304, 304, 64)\n",
            " Load  |  Yep!  | maxp 2x2p0_2                     | (?, 152, 152, 64)\n",
            " Load  |  Yep!  | conv 3x3p1_1  +bnorm  leaky      | (?, 152, 152, 128)\n",
            " Load  |  Yep!  | conv 1x1p0_1  +bnorm  leaky      | (?, 152, 152, 64)\n",
            " Load  |  Yep!  | conv 3x3p1_1  +bnorm  leaky      | (?, 152, 152, 128)\n",
            " Load  |  Yep!  | maxp 2x2p0_2                     | (?, 76, 76, 128)\n",
            " Load  |  Yep!  | conv 3x3p1_1  +bnorm  leaky      | (?, 76, 76, 256)\n",
            " Load  |  Yep!  | conv 1x1p0_1  +bnorm  leaky      | (?, 76, 76, 128)\n",
            " Load  |  Yep!  | conv 3x3p1_1  +bnorm  leaky      | (?, 76, 76, 256)\n",
            " Load  |  Yep!  | maxp 2x2p0_2                     | (?, 38, 38, 256)\n",
            " Load  |  Yep!  | conv 3x3p1_1  +bnorm  leaky      | (?, 38, 38, 512)\n",
            " Load  |  Yep!  | conv 1x1p0_1  +bnorm  leaky      | (?, 38, 38, 256)\n",
            " Load  |  Yep!  | conv 3x3p1_1  +bnorm  leaky      | (?, 38, 38, 512)\n",
            " Load  |  Yep!  | conv 1x1p0_1  +bnorm  leaky      | (?, 38, 38, 256)\n",
            " Load  |  Yep!  | conv 3x3p1_1  +bnorm  leaky      | (?, 38, 38, 512)\n",
            " Load  |  Yep!  | maxp 2x2p0_2                     | (?, 19, 19, 512)\n",
            " Load  |  Yep!  | conv 3x3p1_1  +bnorm  leaky      | (?, 19, 19, 1024)\n",
            " Load  |  Yep!  | conv 1x1p0_1  +bnorm  leaky      | (?, 19, 19, 512)\n",
            " Load  |  Yep!  | conv 3x3p1_1  +bnorm  leaky      | (?, 19, 19, 1024)\n",
            " Load  |  Yep!  | conv 1x1p0_1  +bnorm  leaky      | (?, 19, 19, 512)\n",
            " Load  |  Yep!  | conv 3x3p1_1  +bnorm  leaky      | (?, 19, 19, 1024)\n",
            " Load  |  Yep!  | conv 3x3p1_1  +bnorm  leaky      | (?, 19, 19, 1024)\n",
            " Load  |  Yep!  | conv 3x3p1_1  +bnorm  leaky      | (?, 19, 19, 1024)\n",
            " Load  |  Yep!  | concat [16]                      | (?, 38, 38, 512)\n",
            " Load  |  Yep!  | conv 1x1p0_1  +bnorm  leaky      | (?, 38, 38, 64)\n",
            " Load  |  Yep!  | local flatten 2x2                | (?, 19, 19, 256)\n",
            " Load  |  Yep!  | concat [27, 24]                  | (?, 19, 19, 1280)\n",
            " Load  |  Yep!  | conv 3x3p1_1  +bnorm  leaky      | (?, 19, 19, 1024)\n",
            " Load  |  Yep!  | conv 1x1p0_1    linear           | (?, 19, 19, 425)\n",
            "-------+--------+----------------------------------+---------------\n",
            "GPU mode with 1.0 usage\n",
            "Finished in 4.9956207275390625s\n",
            "\n"
          ],
          "name": "stdout"
        }
      ]
    },
    {
      "cell_type": "code",
      "metadata": {
        "id": "nIH4y_P019B-",
        "colab_type": "code",
        "colab": {}
      },
      "source": [
        "def predict_img(link):\n",
        "  \n",
        "  result = tfnet.return_predict(link)\n",
        "   \n",
        "\n",
        "  for n,value in enumerate(result):\n",
        "    \n",
        "    tl = (result[n]['topleft']['x'], result[n]['topleft']['y'])\n",
        "    br = (result[n]['bottomright']['x'], result[n]['bottomright']['y'])\n",
        "    label = result[n]['label']\n",
        "    img = cv2.rectangle(img,tl,br,(0,255,0))\n",
        "    \n",
        "  plt.figure(figsize=(20,10))    \n",
        "  plt.imshow(img)"
      ],
      "execution_count": 0,
      "outputs": []
    },
    {
      "cell_type": "code",
      "metadata": {
        "id": "69tqu-St1gIC",
        "colab_type": "code",
        "colab": {}
      },
      "source": [
        "def create_image_paths():\n",
        "  \n",
        "  import glob\n",
        "  # Get all image file paths to a list.\n",
        "  images = list(glob.iglob(os.path.join('/content/sample_data_frames/',title, '*.*')))\n",
        "  # Sort the images by name index.\n",
        "  images = sorted(images, key=lambda x: float(os.path.split(x)[1][:-3]))\n",
        "  \n",
        "  return images"
      ],
      "execution_count": 0,
      "outputs": []
    },
    {
      "cell_type": "code",
      "metadata": {
        "id": "qxMLW9yRH5K_",
        "colab_type": "code",
        "colab": {}
      },
      "source": [
        "def download_youtube_video(link):\n",
        "  \n",
        "  from pytube import YouTube\n",
        "  yt = YouTube(link)\n",
        "  streams = yt.streams.get_by_itag('18')\n",
        "  streams.download('/content/sample_data')\n",
        "  title = streams.default_filename\n",
        "  \n",
        "  print('Youtube Video Downloaded...')\n",
        "  return  title"
      ],
      "execution_count": 0,
      "outputs": []
    },
    {
      "cell_type": "code",
      "metadata": {
        "id": "0NtnUAqy1tQo",
        "colab_type": "code",
        "colab": {}
      },
      "source": [
        "def fps():\n",
        "  video = cv2.VideoCapture(os.path.join('/content/sample_data/',title))  \n",
        "  fps = video.get(cv2.CAP_PROP_FPS)\n",
        "  print(\"Frames per second using video.get(cv2.CAP_PROP_FPS) : {0}\".format(fps))\n",
        "  video.release()\n",
        "  return fps"
      ],
      "execution_count": 0,
      "outputs": []
    },
    {
      "cell_type": "code",
      "metadata": {
        "id": "tbgiSIKO2Dsl",
        "colab_type": "code",
        "colab": {}
      },
      "source": [
        "def make_video(outvid, images=None, fps=30, size=None,\n",
        "               is_color=True, format=\"FMP4\"):\n",
        "    \"\"\"\n",
        "    Create a video from a list of images.\n",
        " \n",
        "    @param      outvid      output video\n",
        "    @param      images      list of images to use in the video\n",
        "    @param      fps         frame per second\n",
        "    @param      size        size of each frame\n",
        "    @param      is_color    color\n",
        "    @param      format      see http://www.fourcc.org/codecs.php\n",
        "    @return                 see http://opencv-python-tutroals.readthedocs.org/en/latest/py_tutorials/py_gui/py_video_display/py_video_display.html\n",
        "    \"\"\"\n",
        "    from tqdm import tqdm\n",
        "    from cv2 import VideoWriter, VideoWriter_fourcc, imread, resize\n",
        "    fourcc = VideoWriter_fourcc(*format)\n",
        "    vid = None\n",
        "    for image in tqdm(images):\n",
        "        if not os.path.exists(image):\n",
        "            raise FileNotFoundError(image)\n",
        "        img = imread(image)\n",
        "        if vid is None:\n",
        "            if size is None:\n",
        "                size = img.shape[1], img.shape[0]\n",
        "            vid = VideoWriter(outvid, fourcc, float(fps), size, is_color)\n",
        "        if size[0] != img.shape[1] and size[1] != img.shape[0]:\n",
        "            img = resize(img, size)\n",
        "        vid.write(img)\n",
        "    vid.release()\n",
        "    return vid\n",
        "\n",
        "#outvid = os.path.join(VIDEO_DIR, \"out.mp4\")\n",
        "#make_video('/content/sample_data/video_out.mp4', images, fps=30)\n"
      ],
      "execution_count": 0,
      "outputs": []
    },
    {
      "cell_type": "code",
      "metadata": {
        "id": "QinTqTGdx6Iu",
        "colab_type": "code",
        "colab": {}
      },
      "source": [
        "def sample_frames():\n",
        "  \n",
        "  capture = cv2.VideoCapture(os.path.join('/content/sample_data/',title)) \n",
        "\n",
        "  \n",
        "  frames = []\n",
        "  frame_count = 0\n",
        "\n",
        "  video_frame_path = os.path.join('/content/sample_data_frames/',title)\n",
        "  \n",
        "  if not os.path.exists(video_frame_path):\n",
        "    os.makedirs(video_frame_path)\n",
        "    print('Frames Directory Created...')\n",
        "  \n",
        "  while True:\n",
        "  \n",
        "    ret, frame = capture.read()\n",
        "    frames.append(frame)\n",
        "    frame_count += 1\n",
        "  \n",
        "    if not ret:\n",
        "      print(frame_count)\n",
        "      return (frames,frame_count,video_frame_path)\n",
        "      break"
      ],
      "execution_count": 0,
      "outputs": []
    },
    {
      "cell_type": "code",
      "metadata": {
        "id": "LehUKxUjGO6H",
        "colab_type": "code",
        "colab": {}
      },
      "source": [
        "def predict_video(link):\n",
        "  \n",
        "  global title\n",
        "  \n",
        "  title = download_youtube_video(link)\n",
        "  frames,frame_count,video_frame_path = sample_frames()\n",
        "  \n",
        "  #load video and get every frame of it for analysis..\n",
        "  # for every frame run yolo prediction and save the frame as jpg file\n",
        "\n",
        "  for count,frame in tqdm(enumerate(frames[1:-10])):\n",
        "    \n",
        "    #frame = cv2.cvtColor(frame,cv2.COLOR_BGR2RGB)\n",
        "    results = tfnet.return_predict(frame)\n",
        "  \n",
        "    for n,value in enumerate(results):\n",
        "      \n",
        "      tl = (results[n]['topleft']['x'], results[n]['topleft']['y'])\n",
        "      br = (results[n]['bottomright']['x'], results[n]['bottomright']['y'])\n",
        "      label = results[n]['label']\n",
        "      frame = cv2.rectangle(frame,tl,br,(0,255,0),3)\n",
        "      frame = cv2.putText(frame,label,tl,cv2.FONT_HERSHEY_COMPLEX,1,(0,0,0),2)\n",
        "      \n",
        "      #frame = cv2.addText(label)\n",
        "      #frame = cv2.line(img,(0,frame.shape[0]//2),(600,img.shape[0]//2),(255,0,0),2)   \n",
        "      \n",
        "  \n",
        "    name = '{0}.jpg'.format(count)\n",
        "    \n",
        "    name = os.path.join(video_frame_path,name)  \n",
        "    cv2.imwrite(name, frame)\n",
        "    \n",
        "  print('All Frames Saved...')\n",
        "  \n",
        "  newpath = '/content/sample_data_out/'\n",
        "  if not os.path.exists(newpath):\n",
        "    os.makedirs(newpath)\n",
        "    \n",
        "  images = create_image_paths()\n",
        "  #print(images)\n",
        "  frames_per_second = fps()\n",
        "  make_video(os.path.join('/content/sample_data_out/',title), images, fps=frames_per_second)\n",
        "  \n",
        "  \n",
        "    \n",
        "  \n",
        "  \n",
        "  "
      ],
      "execution_count": 0,
      "outputs": []
    },
    {
      "cell_type": "markdown",
      "metadata": {
        "id": "3VHzyx0QNEtR",
        "colab_type": "text"
      },
      "source": [
        "## 유튜브 비디오 링크를 입력하고 YOLO를 실행\n",
        "- 해상도 360p를 권장한다 (colab 사용 한계)\n"
      ]
    },
    {
      "cell_type": "code",
      "metadata": {
        "id": "No7_r24CtWXz",
        "colab_type": "code",
        "outputId": "2d19c9af-5e07-4ee6-cbc4-9b076b9ab25d",
        "colab": {
          "base_uri": "https://localhost:8080/",
          "height": 134
        }
      },
      "source": [
        "# predict_video('https://www.youtube.com/watch?v=wlJzRAUexV0')\n",
        "predict_video('https://www.youtube.com/watch?v=fM5aHIVBTIc')"
      ],
      "execution_count": 0,
      "outputs": [
        {
          "output_type": "stream",
          "text": [
            "Youtube Video Downloaded...\n",
            "Frames Directory Created...\n"
          ],
          "name": "stdout"
        },
        {
          "output_type": "stream",
          "text": [
            "\r0it [00:00, ?it/s]"
          ],
          "name": "stderr"
        },
        {
          "output_type": "stream",
          "text": [
            "901\n"
          ],
          "name": "stdout"
        },
        {
          "output_type": "stream",
          "text": [
            "890it [00:40, 21.93it/s]\n",
            "  2%|▏         | 18/890 [00:00<00:04, 174.60it/s]"
          ],
          "name": "stderr"
        },
        {
          "output_type": "stream",
          "text": [
            "All Frames Saved...\n",
            "Frames per second using video.get(cv2.CAP_PROP_FPS) : 29.97002997002997\n"
          ],
          "name": "stdout"
        },
        {
          "output_type": "stream",
          "text": [
            "100%|██████████| 890/890 [00:04<00:00, 182.09it/s]\n"
          ],
          "name": "stderr"
        }
      ]
    },
    {
      "cell_type": "code",
      "metadata": {
        "id": "PA8gfXnCJ96C",
        "colab_type": "code",
        "colab": {}
      },
      "source": [
        "files.download(os.path.join('/content/sample_data_out/',title))\n"
      ],
      "execution_count": 0,
      "outputs": []
    }
  ]
}