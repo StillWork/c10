{
 "cells": [
  {
   "cell_type": "markdown",
   "metadata": {
    "colab_type": "text",
    "id": "view-in-github"
   },
   "source": [
    "<a href=\"https://colab.research.google.com/github/StillWork/ds-lab/blob/master/gg_49_%ED%85%90%EC%84%9C%ED%94%8C%EB%A1%9C%EC%9A%B0%EA%B8%B0%EC%B4%88.ipynb\" target=\"_parent\"><img src=\"https://colab.research.google.com/assets/colab-badge.svg\" alt=\"Open In Colab\"/></a>"
   ]
  },
  {
   "cell_type": "code",
   "execution_count": 1,
   "metadata": {
    "colab": {
     "base_uri": "https://localhost:8080/",
     "height": 34
    },
    "colab_type": "code",
    "id": "TXYC6-arNqeZ",
    "outputId": "6187bf2e-5c4f-45d6-ddde-a8b7e939f56c"
   },
   "outputs": [
    {
     "name": "stderr",
     "output_type": "stream",
     "text": [
      "/Users/hwa-jongkim/anaconda3/lib/python3.6/importlib/_bootstrap.py:219: RuntimeWarning: compiletime version 3.5 of module 'tensorflow.python.framework.fast_tensor_util' does not match runtime version 3.6\n",
      "  return f(*args, **kwds)\n"
     ]
    },
    {
     "name": "stdout",
     "output_type": "stream",
     "text": [
      "b'Hello!!'\n"
     ]
    }
   ],
   "source": [
    "import tensorflow as tf\n",
    "msg = tf.constant('Hello!!')\n",
    "session = tf.Session()\n",
    "print(session.run(msg))"
   ]
  },
  {
   "cell_type": "code",
   "execution_count": 2,
   "metadata": {
    "colab": {
     "base_uri": "https://localhost:8080/",
     "height": 34
    },
    "colab_type": "code",
    "id": "Coy9OIdEN-gF",
    "outputId": "79491040-ea63-4802-e37c-603dfa714f25"
   },
   "outputs": [
    {
     "name": "stdout",
     "output_type": "stream",
     "text": [
      "[5.0]\n"
     ]
    }
   ],
   "source": [
    "import tensorflow as tf\n",
    "\n",
    "x = tf.placeholder(tf.float32)\n",
    "y = tf.placeholder(tf.float32)\n",
    "\n",
    "z = x + y\n",
    "\n",
    "session = tf.Session()\n",
    "\n",
    "values = {x: 2.0, y: 3.0}\n",
    "\n",
    "result = session.run([z], values)\n",
    "print(result)\n"
   ]
  },
  {
   "cell_type": "markdown",
   "metadata": {
    "colab": {},
    "colab_type": "code",
    "id": "zmAUXjRjaKl3"
   },
   "source": [
    "## 선형예측 예\n"
   ]
  },
  {
   "cell_type": "code",
   "execution_count": 3,
   "metadata": {},
   "outputs": [],
   "source": [
    "W = tf.Variable([.3], tf.float32)\n",
    "b = tf.Variable([-.3], tf.float32)\n",
    "x = tf.placeholder(tf.float32)\n",
    "linear_model = W * x + b"
   ]
  },
  {
   "cell_type": "code",
   "execution_count": 7,
   "metadata": {},
   "outputs": [
    {
     "name": "stdout",
     "output_type": "stream",
     "text": [
      "[0.         0.3        0.6        0.90000004]\n"
     ]
    }
   ],
   "source": [
    "init = tf.global_variables_initializer()\n",
    "session = tf.Session()\n",
    "session.run(init)\n",
    "print(session.run(linear_model,{x:[1,2,3,4]}))"
   ]
  },
  {
   "cell_type": "code",
   "execution_count": 8,
   "metadata": {},
   "outputs": [
    {
     "name": "stdout",
     "output_type": "stream",
     "text": [
      "23.66\n"
     ]
    }
   ],
   "source": [
    "y = tf.placeholder(tf.float32)\n",
    "squared_deltas = tf.square(linear_model - y)\n",
    "loss = tf.reduce_sum(squared_deltas)\n",
    "print(session.run(loss, {x:[1,2,3,4], y:[0,-1,-2,-3]}))"
   ]
  },
  {
   "cell_type": "code",
   "execution_count": 13,
   "metadata": {},
   "outputs": [
    {
     "name": "stdout",
     "output_type": "stream",
     "text": [
      "0 [array([-0.21999997], dtype=float32), array([-0.45600003], dtype=float32)]\n",
      "100 [array([-0.84270465], dtype=float32), array([0.5375326], dtype=float32)]\n",
      "200 [array([-0.9528499], dtype=float32), array([0.86137295], dtype=float32)]\n",
      "300 [array([-0.98586655], dtype=float32), array([0.95844597], dtype=float32)]\n",
      "400 [array([-0.9957634], dtype=float32), array([0.98754394], dtype=float32)]\n"
     ]
    }
   ],
   "source": [
    "optimizer = tf.train.GradientDescentOptimizer(0.01)\n",
    "train = optimizer.minimize(loss)\n",
    "session.run(init) \n",
    "for i in range(500):\n",
    "    session.run(train, {x:[1,2,3,4], y:[0,-1,-2,-3]})\n",
    "    if i%100 == 0:\n",
    "        print(i, session.run([W, b]))\n"
   ]
  },
  {
   "cell_type": "markdown",
   "metadata": {},
   "source": [
    "## 텐서플로우 함수 사용"
   ]
  },
  {
   "cell_type": "code",
   "execution_count": 14,
   "metadata": {},
   "outputs": [
    {
     "name": "stdout",
     "output_type": "stream",
     "text": [
      "WARNING:tensorflow:From /Users/hwa-jongkim/anaconda3/lib/python3.6/site-packages/tensorflow/contrib/learn/python/learn/estimators/linear.py:740: regression_head (from tensorflow.contrib.learn.python.learn.estimators.head) is deprecated and will be removed in a future version.\n",
      "Instructions for updating:\n",
      "Please switch to tf.contrib.estimator.*_head.\n",
      "WARNING:tensorflow:From /Users/hwa-jongkim/anaconda3/lib/python3.6/site-packages/tensorflow/contrib/learn/python/learn/estimators/estimator.py:1179: BaseEstimator.__init__ (from tensorflow.contrib.learn.python.learn.estimators.estimator) is deprecated and will be removed in a future version.\n",
      "Instructions for updating:\n",
      "Please replace uses of any Estimator from tf.contrib.learn with an Estimator from tf.estimator.*\n",
      "WARNING:tensorflow:From /Users/hwa-jongkim/anaconda3/lib/python3.6/site-packages/tensorflow/contrib/learn/python/learn/estimators/estimator.py:427: RunConfig.__init__ (from tensorflow.contrib.learn.python.learn.estimators.run_config) is deprecated and will be removed in a future version.\n",
      "Instructions for updating:\n",
      "When switching to tf.estimator.Estimator, use tf.estimator.RunConfig instead.\n",
      "INFO:tensorflow:Using default config.\n",
      "WARNING:tensorflow:Using temporary folder as model directory: /var/folders/fg/00z0mbq56ls2ktzv8nvn15x80000gn/T/tmpr7w9da3p\n",
      "INFO:tensorflow:Using config: {'_task_type': None, '_task_id': 0, '_cluster_spec': <tensorflow.python.training.server_lib.ClusterSpec object at 0x1c29bc5940>, '_master': '', '_num_ps_replicas': 0, '_num_worker_replicas': 0, '_environment': 'local', '_is_chief': True, '_evaluation_master': '', '_train_distribute': None, '_device_fn': None, '_tf_config': gpu_options {\n",
      "  per_process_gpu_memory_fraction: 1.0\n",
      "}\n",
      ", '_tf_random_seed': None, '_save_summary_steps': 100, '_save_checkpoints_secs': 600, '_log_step_count_steps': 100, '_session_config': None, '_save_checkpoints_steps': None, '_keep_checkpoint_max': 5, '_keep_checkpoint_every_n_hours': 10000, '_model_dir': '/var/folders/fg/00z0mbq56ls2ktzv8nvn15x80000gn/T/tmpr7w9da3p'}\n",
      "WARNING:tensorflow:From <ipython-input-14-1f5de6bfc854>:10: numpy_input_fn (from tensorflow.contrib.learn.python.learn.learn_io.numpy_io) is deprecated and will be removed in a future version.\n",
      "Instructions for updating:\n",
      "Use tf.estimator.inputs.numpy_input_fn.\n",
      "WARNING:tensorflow:From /Users/hwa-jongkim/anaconda3/lib/python3.6/site-packages/tensorflow/contrib/learn/python/learn/estimators/head.py:566: calling expand_dims (from tensorflow.python.ops.array_ops) with dim is deprecated and will be removed in a future version.\n",
      "Instructions for updating:\n",
      "Use the `axis` argument instead\n",
      "WARNING:tensorflow:From /Users/hwa-jongkim/anaconda3/lib/python3.6/site-packages/tensorflow/contrib/learn/python/learn/estimators/head.py:678: ModelFnOps.__new__ (from tensorflow.contrib.learn.python.learn.estimators.model_fn) is deprecated and will be removed in a future version.\n",
      "Instructions for updating:\n",
      "When switching to tf.estimator.Estimator, use tf.estimator.EstimatorSpec. You can use the `estimator_spec` method to create an equivalent one.\n",
      "INFO:tensorflow:Create CheckpointSaverHook.\n",
      "INFO:tensorflow:Graph was finalized.\n",
      "INFO:tensorflow:Running local_init_op.\n",
      "INFO:tensorflow:Done running local_init_op.\n",
      "INFO:tensorflow:Saving checkpoints for 0 into /var/folders/fg/00z0mbq56ls2ktzv8nvn15x80000gn/T/tmpr7w9da3p/model.ckpt.\n",
      "INFO:tensorflow:loss = 0.25, step = 1\n",
      "INFO:tensorflow:global_step/sec: 601.051\n",
      "INFO:tensorflow:loss = 0.037249308, step = 101 (0.168 sec)\n",
      "INFO:tensorflow:global_step/sec: 725.932\n",
      "INFO:tensorflow:loss = 0.007336386, step = 201 (0.138 sec)\n",
      "INFO:tensorflow:global_step/sec: 568.725\n",
      "INFO:tensorflow:loss = 0.001619247, step = 301 (0.176 sec)\n",
      "INFO:tensorflow:global_step/sec: 526.876\n",
      "INFO:tensorflow:loss = 0.00027955743, step = 401 (0.190 sec)\n",
      "INFO:tensorflow:global_step/sec: 677.047\n",
      "INFO:tensorflow:loss = 2.9349567e-05, step = 501 (0.146 sec)\n",
      "INFO:tensorflow:global_step/sec: 684.895\n",
      "INFO:tensorflow:loss = 6.9799567e-06, step = 601 (0.146 sec)\n",
      "INFO:tensorflow:global_step/sec: 716.27\n",
      "INFO:tensorflow:loss = 8.0570464e-07, step = 701 (0.140 sec)\n",
      "INFO:tensorflow:global_step/sec: 1003.88\n",
      "INFO:tensorflow:loss = 8.691865e-08, step = 801 (0.099 sec)\n",
      "INFO:tensorflow:global_step/sec: 1109.14\n",
      "INFO:tensorflow:loss = 2.0320172e-08, step = 901 (0.091 sec)\n",
      "INFO:tensorflow:Saving checkpoints for 1000 into /var/folders/fg/00z0mbq56ls2ktzv8nvn15x80000gn/T/tmpr7w9da3p/model.ckpt.\n",
      "INFO:tensorflow:Loss for final step: 8.9909236e-10.\n",
      "INFO:tensorflow:Starting evaluation at 2019-05-26-08:13:48\n",
      "INFO:tensorflow:Graph was finalized.\n",
      "INFO:tensorflow:Restoring parameters from /var/folders/fg/00z0mbq56ls2ktzv8nvn15x80000gn/T/tmpr7w9da3p/model.ckpt-1000\n",
      "INFO:tensorflow:Running local_init_op.\n",
      "INFO:tensorflow:Done running local_init_op.\n",
      "INFO:tensorflow:Finished evaluation at 2019-05-26-08:13:49\n",
      "INFO:tensorflow:Saving dict for global step 1000: global_step = 1000, loss = 4.5599706e-09\n"
     ]
    },
    {
     "data": {
      "text/plain": [
       "{'loss': 4.5599706e-09, 'global_step': 1000}"
      ]
     },
     "execution_count": 14,
     "metadata": {},
     "output_type": "execute_result"
    }
   ],
   "source": [
    "import tensorflow as tf\n",
    "import numpy as np\n",
    "# 독립변수로 x 하나만 정의한다\n",
    "features =[tf.contrib.layers.real_valued_column(\"x\", dimension=1)]\n",
    "# 예측 알고리즘으로 선형회귀 알고리즘을 선택했다\n",
    "estimator = tf.contrib.learn.LinearRegressor(feature_columns=features)\n",
    "# 독립변수와 종속변수 값을 제시하고 1000번 학습을 시행하도록 하며 한번에 4회씩 시행한다\n",
    "x = np.array([1.,2.,3.,4.])\n",
    "y = np.array([0.,-1.,-2.,-3.])\n",
    "input_fn = tf.contrib.learn.io.numpy_input_fn({\"x\":x}, y, batch_size=4, num_epochs=1000)\n",
    "# 훈련 데이터를 사용해서 1000번 학습단계를 수행한다\n",
    "estimator.fit(input_fn=input_fn, steps=1000)\n",
    "# 결과를 본다\n",
    "estimator.evaluate(input_fn=input_fn)"
   ]
  }
 ],
 "metadata": {
  "accelerator": "GPU",
  "colab": {
   "collapsed_sections": [],
   "include_colab_link": true,
   "name": "gg-49-텐서플로우기초.ipynb",
   "provenance": [],
   "version": "0.3.2"
  },
  "kernelspec": {
   "display_name": "Python 3",
   "language": "python",
   "name": "python3"
  },
  "language_info": {
   "codemirror_mode": {
    "name": "ipython",
    "version": 3
   },
   "file_extension": ".py",
   "mimetype": "text/x-python",
   "name": "python",
   "nbconvert_exporter": "python",
   "pygments_lexer": "ipython3",
   "version": "3.6.6"
  }
 },
 "nbformat": 4,
 "nbformat_minor": 1
}
