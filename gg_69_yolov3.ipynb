{
  "nbformat": 4,
  "nbformat_minor": 0,
  "metadata": {
    "colab": {
      "name": "gg_72_yolov3",
      "version": "0.3.2",
      "provenance": [],
      "collapsed_sections": []
    },
    "kernelspec": {
      "name": "python3",
      "display_name": "Python 3"
    },
    "accelerator": "GPU"
  },
  "cells": [
    {
      "cell_type": "code",
      "metadata": {
        "id": "nuh_h-fqapS4",
        "colab_type": "code",
        "outputId": "ff701829-6fcd-4bf8-c892-b10bc7a6a3a2",
        "colab": {
          "base_uri": "https://localhost:8080/",
          "height": 50
        }
      },
      "source": [
        "import sys\n",
        "print(sys.version)"
      ],
      "execution_count": 0,
      "outputs": [
        {
          "output_type": "stream",
          "text": [
            "3.6.7 (default, Oct 22 2018, 11:32:17) \n",
            "[GCC 8.2.0]\n"
          ],
          "name": "stdout"
        }
      ]
    },
    {
      "cell_type": "code",
      "metadata": {
        "id": "2nMQvUxAatYY",
        "colab_type": "code",
        "outputId": "ce658c1b-8d72-49b4-bd96-e12368aeb4c0",
        "colab": {
          "base_uri": "https://localhost:8080/",
          "height": 151
        }
      },
      "source": [
        "!git clone https://github.com/ultralytics/yolov3.git\n",
        "%cd yolov3"
      ],
      "execution_count": 0,
      "outputs": [
        {
          "output_type": "stream",
          "text": [
            "Cloning into 'yolov3'...\n",
            "remote: Enumerating objects: 99, done.\u001b[K\n",
            "remote: Counting objects:   1% (1/99)   \u001b[K\rremote: Counting objects:   2% (2/99)   \u001b[K\rremote: Counting objects:   3% (3/99)   \u001b[K\rremote: Counting objects:   4% (4/99)   \u001b[K\rremote: Counting objects:   5% (5/99)   \u001b[K\rremote: Counting objects:   6% (6/99)   \u001b[K\rremote: Counting objects:   7% (7/99)   \u001b[K\rremote: Counting objects:   8% (8/99)   \u001b[K\rremote: Counting objects:   9% (9/99)   \u001b[K\rremote: Counting objects:  10% (10/99)   \u001b[K\rremote: Counting objects:  11% (11/99)   \u001b[K\rremote: Counting objects:  12% (12/99)   \u001b[K\rremote: Counting objects:  13% (13/99)   \u001b[K\rremote: Counting objects:  14% (14/99)   \u001b[K\rremote: Counting objects:  15% (15/99)   \u001b[K\rremote: Counting objects:  16% (16/99)   \u001b[K\rremote: Counting objects:  17% (17/99)   \u001b[K\rremote: Counting objects:  18% (18/99)   \u001b[K\rremote: Counting objects:  19% (19/99)   \u001b[K\rremote: Counting objects:  20% (20/99)   \u001b[K\rremote: Counting objects:  21% (21/99)   \u001b[K\rremote: Counting objects:  22% (22/99)   \u001b[K\rremote: Counting objects:  23% (23/99)   \u001b[K\rremote: Counting objects:  24% (24/99)   \u001b[K\rremote: Counting objects:  25% (25/99)   \u001b[K\rremote: Counting objects:  26% (26/99)   \u001b[K\rremote: Counting objects:  27% (27/99)   \u001b[K\rremote: Counting objects:  28% (28/99)   \u001b[K\rremote: Counting objects:  29% (29/99)   \u001b[K\rremote: Counting objects:  30% (30/99)   \u001b[K\rremote: Counting objects:  31% (31/99)   \u001b[K\rremote: Counting objects:  32% (32/99)   \u001b[K\rremote: Counting objects:  33% (33/99)   \u001b[K\rremote: Counting objects:  34% (34/99)   \u001b[K\rremote: Counting objects:  35% (35/99)   \u001b[K\rremote: Counting objects:  36% (36/99)   \u001b[K\rremote: Counting objects:  37% (37/99)   \u001b[K\rremote: Counting objects:  38% (38/99)   \u001b[K\rremote: Counting objects:  39% (39/99)   \u001b[K\rremote: Counting objects:  40% (40/99)   \u001b[K\rremote: Counting objects:  41% (41/99)   \u001b[K\rremote: Counting objects:  42% (42/99)   \u001b[K\rremote: Counting objects:  43% (43/99)   \u001b[K\rremote: Counting objects:  44% (44/99)   \u001b[K\rremote: Counting objects:  45% (45/99)   \u001b[K\rremote: Counting objects:  46% (46/99)   \u001b[K\rremote: Counting objects:  47% (47/99)   \u001b[K\rremote: Counting objects:  48% (48/99)   \u001b[K\rremote: Counting objects:  49% (49/99)   \u001b[K\rremote: Counting objects:  50% (50/99)   \u001b[K\rremote: Counting objects:  51% (51/99)   \u001b[K\rremote: Counting objects:  52% (52/99)   \u001b[K\rremote: Counting objects:  53% (53/99)   \u001b[K\rremote: Counting objects:  54% (54/99)   \u001b[K\rremote: Counting objects:  55% (55/99)   \u001b[K\rremote: Counting objects:  56% (56/99)   \u001b[K\rremote: Counting objects:  57% (57/99)   \u001b[K\rremote: Counting objects:  58% (58/99)   \u001b[K\rremote: Counting objects:  59% (59/99)   \u001b[K\rremote: Counting objects:  60% (60/99)   \u001b[K\rremote: Counting objects:  61% (61/99)   \u001b[K\rremote: Counting objects:  62% (62/99)   \u001b[K\rremote: Counting objects:  63% (63/99)   \u001b[K\rremote: Counting objects:  64% (64/99)   \u001b[K\rremote: Counting objects:  65% (65/99)   \u001b[K\rremote: Counting objects:  66% (66/99)   \u001b[K\rremote: Counting objects:  67% (67/99)   \u001b[K\rremote: Counting objects:  68% (68/99)   \u001b[K\rremote: Counting objects:  69% (69/99)   \u001b[K\rremote: Counting objects:  70% (70/99)   \u001b[K\rremote: Counting objects:  71% (71/99)   \u001b[K\rremote: Counting objects:  72% (72/99)   \u001b[K\rremote: Counting objects:  73% (73/99)   \u001b[K\rremote: Counting objects:  74% (74/99)   \u001b[K\rremote: Counting objects:  75% (75/99)   \u001b[K\rremote: Counting objects:  76% (76/99)   \u001b[K\rremote: Counting objects:  77% (77/99)   \u001b[K\rremote: Counting objects:  78% (78/99)   \u001b[K\rremote: Counting objects:  79% (79/99)   \u001b[K\rremote: Counting objects:  80% (80/99)   \u001b[K\rremote: Counting objects:  81% (81/99)   \u001b[K\rremote: Counting objects:  82% (82/99)   \u001b[K\rremote: Counting objects:  83% (83/99)   \u001b[K\rremote: Counting objects:  84% (84/99)   \u001b[K\rremote: Counting objects:  85% (85/99)   \u001b[K\rremote: Counting objects:  86% (86/99)   \u001b[K\rremote: Counting objects:  87% (87/99)   \u001b[K\rremote: Counting objects:  88% (88/99)   \u001b[K\rremote: Counting objects:  89% (89/99)   \u001b[K\rremote: Counting objects:  90% (90/99)   \u001b[K\rremote: Counting objects:  91% (91/99)   \u001b[K\rremote: Counting objects:  92% (92/99)   \u001b[K\rremote: Counting objects:  93% (93/99)   \u001b[K\rremote: Counting objects:  94% (94/99)   \u001b[K\rremote: Counting objects:  95% (95/99)   \u001b[K\rremote: Counting objects:  96% (96/99)   \u001b[K\rremote: Counting objects:  97% (97/99)   \u001b[K\rremote: Counting objects:  98% (98/99)   \u001b[K\rremote: Counting objects: 100% (99/99)   \u001b[K\rremote: Counting objects: 100% (99/99), done.\u001b[K\n",
            "remote: Compressing objects: 100% (68/68), done.\u001b[K\n",
            "remote: Total 3556 (delta 61), reused 65 (delta 31), pack-reused 3457\u001b[K\n",
            "Receiving objects: 100% (3556/3556), 3.10 MiB | 4.13 MiB/s, done.\n",
            "Resolving deltas: 100% (2404/2404), done.\n",
            "/content/yolov3\n"
          ],
          "name": "stdout"
        }
      ]
    },
    {
      "cell_type": "code",
      "metadata": {
        "id": "J8Sm2mQebCir",
        "colab_type": "code",
        "colab": {}
      },
      "source": [
        "!chmod +x weights/download_yolov3_weights.sh"
      ],
      "execution_count": 0,
      "outputs": []
    },
    {
      "cell_type": "code",
      "metadata": {
        "id": "uoI5qY8bbExU",
        "colab_type": "code",
        "outputId": "9503c2c8-25de-488b-9e5f-614500c4f297",
        "colab": {
          "base_uri": "https://localhost:8080/",
          "height": 776
        }
      },
      "source": [
        "!weights/download_yolov3_weights.sh"
      ],
      "execution_count": 0,
      "outputs": [
        {
          "output_type": "stream",
          "text": [
            "--2019-06-05 15:31:45--  https://pjreddie.com/media/files/yolov3.weights\n",
            "Resolving pjreddie.com (pjreddie.com)... 128.208.4.108\n",
            "Connecting to pjreddie.com (pjreddie.com)|128.208.4.108|:443... connected.\n",
            "HTTP request sent, awaiting response... 200 OK\n",
            "Length: 248007048 (237M) [application/octet-stream]\n",
            "Saving to: ‘yolov3.weights’\n",
            "\n",
            "yolov3.weights      100%[===================>] 236.52M  25.9MB/s    in 7.5s    \n",
            "\n",
            "2019-06-05 15:31:52 (31.4 MB/s) - ‘yolov3.weights’ saved [248007048/248007048]\n",
            "\n",
            "--2019-06-05 15:31:52--  https://pjreddie.com/media/files/yolov3-tiny.weights\n",
            "Resolving pjreddie.com (pjreddie.com)... 128.208.4.108\n",
            "Connecting to pjreddie.com (pjreddie.com)|128.208.4.108|:443... connected.\n",
            "HTTP request sent, awaiting response... 200 OK\n",
            "Length: 35434956 (34M) [application/octet-stream]\n",
            "Saving to: ‘yolov3-tiny.weights’\n",
            "\n",
            "yolov3-tiny.weights 100%[===================>]  33.79M  25.5MB/s    in 1.3s    \n",
            "\n",
            "2019-06-05 15:31:54 (25.5 MB/s) - ‘yolov3-tiny.weights’ saved [35434956/35434956]\n",
            "\n",
            "--2019-06-05 15:31:54--  https://pjreddie.com/media/files/yolov3-spp.weights\n",
            "Resolving pjreddie.com (pjreddie.com)... 128.208.4.108\n",
            "Connecting to pjreddie.com (pjreddie.com)|128.208.4.108|:443... connected.\n",
            "HTTP request sent, awaiting response... 200 OK\n",
            "Length: 252209544 (241M) [application/octet-stream]\n",
            "Saving to: ‘yolov3-spp.weights’\n",
            "\n",
            "yolov3-spp.weights  100%[===================>] 240.53M  31.5MB/s    in 8.4s    \n",
            "\n",
            "2019-06-05 15:32:03 (28.6 MB/s) - ‘yolov3-spp.weights’ saved [252209544/252209544]\n",
            "\n",
            "--2019-06-05 15:32:03--  https://pjreddie.com/media/files/darknet53.conv.74\n",
            "Resolving pjreddie.com (pjreddie.com)... 128.208.4.108\n",
            "Connecting to pjreddie.com (pjreddie.com)|128.208.4.108|:443... connected.\n",
            "HTTP request sent, awaiting response... 200 OK\n",
            "Length: 162482580 (155M) [application/octet-stream]\n",
            "Saving to: ‘darknet53.conv.74’\n",
            "\n",
            "darknet53.conv.74   100%[===================>] 154.96M  33.3MB/s    in 4.9s    \n",
            "\n",
            "2019-06-05 15:32:08 (31.5 MB/s) - ‘darknet53.conv.74’ saved [162482580/162482580]\n",
            "\n"
          ],
          "name": "stdout"
        }
      ]
    },
    {
      "cell_type": "code",
      "metadata": {
        "id": "PbyKiO3lbbSN",
        "colab_type": "code",
        "outputId": "612c2917-b056-426e-d48b-ba1005f1fd91",
        "colab": {
          "base_uri": "https://localhost:8080/",
          "height": 138
        }
      },
      "source": [
        "!python3 detect.py --cfg cfg/yolov3-spp.cfg --weights weights/yolov3-spp.weights"
      ],
      "execution_count": 0,
      "outputs": [
        {
          "output_type": "stream",
          "text": [
            "Namespace(cfg='cfg/yolov3-spp.cfg', conf_thres=0.5, data_cfg='data/coco.data', fourcc='mp4v', images='data/samples', img_size=416, nms_thres=0.5, output='output', weights='weights/yolov3-spp.weights')\n",
            "Using CUDA device0 _CudaDeviceProperties(name='Tesla T4', total_memory=15079MB)\n",
            "\n",
            "image 1/2 data/samples/bus.jpg: 416x320 3 persons, 1 buss, 1 handbags, Done. (0.160s)\n",
            "image 2/2 data/samples/zidane.jpg: 256x416 2 persons, 1 ties, Done. (0.037s)\n",
            "Results saved to /content/yolov3/output\n"
          ],
          "name": "stdout"
        }
      ]
    }
  ]
}